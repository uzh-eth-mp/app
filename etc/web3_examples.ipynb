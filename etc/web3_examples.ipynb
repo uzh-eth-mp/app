{
    "cells": [
        {
            "cell_type": "code",
            "execution_count": 5,
            "id": "f76981b5",
            "metadata": {
                "scrolled": true
            },
            "outputs": [
                {
                    "name": "stdout",
                    "output_type": "stream",
                    "text": [
                        "\u001b[33mDEPRECATION: Configuring installation scheme with distutils config files is deprecated and will no longer work in the near future. If you are using a Homebrew or Linuxbrew Python, please see discussion at https://github.com/Homebrew/homebrew-core/issues/76621\u001b[0m\u001b[33m\n",
                        "\u001b[0mRequirement already satisfied: web3 in /usr/local/lib/python3.9/site-packages (5.30.0)\n",
                        "Requirement already satisfied: websockets<10,>=9.1 in /usr/local/lib/python3.9/site-packages (from web3) (9.1)\n",
                        "Requirement already satisfied: eth-account<0.6.0,>=0.5.7 in /usr/local/lib/python3.9/site-packages (from web3) (0.5.8)\n",
                        "Requirement already satisfied: eth-hash[pycryptodome]<1.0.0,>=0.2.0 in /usr/local/lib/python3.9/site-packages (from web3) (0.5.0)\n",
                        "Requirement already satisfied: requests<3.0.0,>=2.16.0 in /usr/local/lib/python3.9/site-packages (from web3) (2.28.1)\n",
                        "Requirement already satisfied: hexbytes<1.0.0,>=0.1.0 in /usr/local/lib/python3.9/site-packages (from web3) (0.2.2)\n",
                        "Requirement already satisfied: lru-dict<2.0.0,>=1.1.6 in /usr/local/lib/python3.9/site-packages (from web3) (1.1.8)\n",
                        "Requirement already satisfied: jsonschema<5,>=3.2.0 in /usr/local/lib/python3.9/site-packages (from web3) (4.9.0)\n",
                        "Requirement already satisfied: eth-abi<3.0.0,>=2.0.0b6 in /usr/local/lib/python3.9/site-packages (from web3) (2.2.0)\n",
                        "Requirement already satisfied: eth-typing<3.0.0,>=2.0.0 in /usr/local/lib/python3.9/site-packages (from web3) (2.3.0)\n",
                        "Requirement already satisfied: eth-rlp<0.3 in /usr/local/lib/python3.9/site-packages (from web3) (0.2.1)\n",
                        "Requirement already satisfied: eth-utils<2.0.0,>=1.9.5 in /usr/local/lib/python3.9/site-packages (from web3) (1.9.5)\n",
                        "Requirement already satisfied: protobuf<4,>=3.10.0 in /usr/local/lib/python3.9/site-packages (from web3) (3.20.1)\n",
                        "Requirement already satisfied: ipfshttpclient==0.8.0a2 in /usr/local/lib/python3.9/site-packages (from web3) (0.8.0a2)\n",
                        "Requirement already satisfied: aiohttp<4,>=3.7.4.post0 in /usr/local/lib/python3.9/site-packages (from web3) (3.8.1)\n",
                        "Requirement already satisfied: multiaddr>=0.0.7 in /usr/local/lib/python3.9/site-packages (from ipfshttpclient==0.8.0a2->web3) (0.0.9)\n",
                        "Requirement already satisfied: frozenlist>=1.1.1 in /usr/local/lib/python3.9/site-packages (from aiohttp<4,>=3.7.4.post0->web3) (1.3.0)\n",
                        "Requirement already satisfied: yarl<2.0,>=1.0 in /usr/local/lib/python3.9/site-packages (from aiohttp<4,>=3.7.4.post0->web3) (1.8.1)\n",
                        "Requirement already satisfied: charset-normalizer<3.0,>=2.0 in /usr/local/lib/python3.9/site-packages (from aiohttp<4,>=3.7.4.post0->web3) (2.1.0)\n",
                        "Requirement already satisfied: attrs>=17.3.0 in /usr/local/lib/python3.9/site-packages (from aiohttp<4,>=3.7.4.post0->web3) (22.1.0)\n",
                        "Requirement already satisfied: async-timeout<5.0,>=4.0.0a3 in /usr/local/lib/python3.9/site-packages (from aiohttp<4,>=3.7.4.post0->web3) (4.0.2)\n",
                        "Requirement already satisfied: aiosignal>=1.1.2 in /usr/local/lib/python3.9/site-packages (from aiohttp<4,>=3.7.4.post0->web3) (1.2.0)\n",
                        "Requirement already satisfied: multidict<7.0,>=4.5 in /usr/local/lib/python3.9/site-packages (from aiohttp<4,>=3.7.4.post0->web3) (6.0.2)\n",
                        "Requirement already satisfied: parsimonious<0.9.0,>=0.8.0 in /usr/local/lib/python3.9/site-packages (from eth-abi<3.0.0,>=2.0.0b6->web3) (0.8.1)\n",
                        "Requirement already satisfied: bitarray<3,>=1.2.1 in /usr/local/lib/python3.9/site-packages (from eth-account<0.6.0,>=0.5.7->web3) (2.6.0)\n",
                        "Requirement already satisfied: rlp<3,>=1.0.0 in /usr/local/lib/python3.9/site-packages (from eth-account<0.6.0,>=0.5.7->web3) (2.0.1)\n",
                        "Requirement already satisfied: eth-keys<0.4.0,>=0.3.4 in /usr/local/lib/python3.9/site-packages (from eth-account<0.6.0,>=0.5.7->web3) (0.3.4)\n",
                        "Requirement already satisfied: eth-keyfile<0.6.0,>=0.5.0 in /usr/local/lib/python3.9/site-packages (from eth-account<0.6.0,>=0.5.7->web3) (0.5.1)\n",
                        "Requirement already satisfied: pycryptodome<4,>=3.6.6 in /usr/local/lib/python3.9/site-packages (from eth-hash[pycryptodome]<1.0.0,>=0.2.0->web3) (3.15.0)\n",
                        "Requirement already satisfied: cytoolz<1.0.0,>=0.10.1 in /usr/local/lib/python3.9/site-packages (from eth-utils<2.0.0,>=1.9.5->web3) (0.12.0)\n",
                        "Requirement already satisfied: pyrsistent!=0.17.0,!=0.17.1,!=0.17.2,>=0.14.0 in /usr/local/lib/python3.9/site-packages (from jsonschema<5,>=3.2.0->web3) (0.18.1)\n",
                        "Requirement already satisfied: certifi>=2017.4.17 in /usr/local/lib/python3.9/site-packages (from requests<3.0.0,>=2.16.0->web3) (2022.6.15)\n",
                        "Requirement already satisfied: urllib3<1.27,>=1.21.1 in /usr/local/lib/python3.9/site-packages (from requests<3.0.0,>=2.16.0->web3) (1.26.11)\n",
                        "Requirement already satisfied: idna<4,>=2.5 in /usr/local/lib/python3.9/site-packages (from requests<3.0.0,>=2.16.0->web3) (3.3)\n",
                        "Requirement already satisfied: toolz>=0.8.0 in /usr/local/lib/python3.9/site-packages (from cytoolz<1.0.0,>=0.10.1->eth-utils<2.0.0,>=1.9.5->web3) (0.12.0)\n",
                        "Requirement already satisfied: netaddr in /usr/local/lib/python3.9/site-packages (from multiaddr>=0.0.7->ipfshttpclient==0.8.0a2->web3) (0.8.0)\n",
                        "Requirement already satisfied: base58 in /usr/local/lib/python3.9/site-packages (from multiaddr>=0.0.7->ipfshttpclient==0.8.0a2->web3) (2.1.1)\n",
                        "Requirement already satisfied: varint in /usr/local/lib/python3.9/site-packages (from multiaddr>=0.0.7->ipfshttpclient==0.8.0a2->web3) (1.0.2)\n",
                        "Requirement already satisfied: six in /usr/local/lib/python3.9/site-packages (from multiaddr>=0.0.7->ipfshttpclient==0.8.0a2->web3) (1.16.0)\n",
                        "\u001b[33mDEPRECATION: Configuring installation scheme with distutils config files is deprecated and will no longer work in the near future. If you are using a Homebrew or Linuxbrew Python, please see discussion at https://github.com/Homebrew/homebrew-core/issues/76621\u001b[0m\u001b[33m\n",
                        "\u001b[0m"
                    ]
                },
                {
                    "ename": "ModuleNotFoundError",
                    "evalue": "No module named 'web3'",
                    "output_type": "error",
                    "traceback": [
                        "\u001b[0;31m---------------------------------------------------------------------------\u001b[0m",
                        "\u001b[0;31mModuleNotFoundError\u001b[0m                       Traceback (most recent call last)",
                        "Input \u001b[0;32mIn [5]\u001b[0m, in \u001b[0;36m<cell line: 4>\u001b[0;34m()\u001b[0m\n\u001b[1;32m      1\u001b[0m \u001b[38;5;66;03m# need to have web3 installed, \u001b[39;00m\n\u001b[1;32m      2\u001b[0m \u001b[38;5;66;03m# `pip install web3` in the command line or uncomment next line\u001b[39;00m\n\u001b[1;32m      3\u001b[0m get_ipython()\u001b[38;5;241m.\u001b[39msystem(\u001b[38;5;124m'\u001b[39m\u001b[38;5;124mpip install web3\u001b[39m\u001b[38;5;124m'\u001b[39m)\n\u001b[0;32m----> 4\u001b[0m \u001b[38;5;28;01mfrom\u001b[39;00m \u001b[38;5;21;01mweb3\u001b[39;00m \u001b[38;5;28;01mimport\u001b[39;00m Web3\n\u001b[1;32m      7\u001b[0m eth_api_url \u001b[38;5;241m=\u001b[39m \u001b[38;5;124m\"\u001b[39m\u001b[38;5;124mhttps://mainnet.infura.io/v3/5ac780e50f2d4c48aedf160d077963ce\u001b[39m\u001b[38;5;124m\"\u001b[39m\n\u001b[1;32m      8\u001b[0m w3 \u001b[38;5;241m=\u001b[39m Web3(Web3\u001b[38;5;241m.\u001b[39mHTTPProvider(eth_api_url))\n",
                        "\u001b[0;31mModuleNotFoundError\u001b[0m: No module named 'web3'"
                    ]
                }
            ],
            "source": [
                "# need to have web3 installed, \n",
                "# `pip install web3` in the command line or uncomment next line\n",
                "!pip install web3\n",
                "from web3 import Web3\n",
                "\n",
                "\n",
                "eth_api_url = \"https://mainnet.infura.io/v3/5ac780e50f2d4c48aedf160d077963ce\"\n",
                "w3 = Web3(Web3.HTTPProvider(eth_api_url))"
            ]
        },
        {
            "cell_type": "code",
            "execution_count": null,
            "id": "f68ab22c",
            "metadata": {},
            "outputs": [],
            "source": [
                "\"\"\"Displays JSON data in a readable format\n",
                "\n",
                "Note: just use the web3_data_to_json function at the bottom\n",
                "\"\"\"\n",
                "\n",
                "import json\n",
                "from hexbytes import HexBytes\n",
                "from web3.datastructures import AttributeDict\n",
                "import uuid\n",
                "from IPython.display import display_javascript, display_html, display\n",
                "\n",
                "class RenderJSON(object):\n",
                "    def __init__(self, json_data):\n",
                "        if isinstance(json_data, dict):\n",
                "            self.json_str = json.dumps(json_data)\n",
                "        else:\n",
                "            self.json_str = json_data\n",
                "        self.uuid = str(uuid.uuid4())\n",
                "\n",
                "    def _ipython_display_(self):\n",
                "        display_html('<div id=\"{}\" style=\"height: 500px; width:100%;\"></div>'.format(self.uuid), raw=True)\n",
                "        display_javascript(\"\"\"\n",
                "        require([\"https://rawgit.com/caldwell/renderjson/master/renderjson.js\"], function() {\n",
                "        document.getElementById('%s').appendChild(renderjson(%s))\n",
                "        });\n",
                "        \"\"\" % (self.uuid, self.json_str), raw=True)\n",
                "\n",
                "\n",
                "class HexJsonEncoder(json.JSONEncoder):\n",
                "    \"\"\"\n",
                "    https://github.com/ethereum/web3.py/issues/782#issuecomment-383464754\n",
                "    \"\"\"\n",
                "\n",
                "    def default(self, obj):\n",
                "        if isinstance(obj, HexBytes):\n",
                "            return obj.hex()\n",
                "        if isinstance(obj, AttributeDict):\n",
                "            return dict(obj)\n",
                "        return super().default(obj)\n",
                "\n",
                "\n",
                "    \n",
                "def web3_data_to_json(x):\n",
                "    \"\"\"Render any web3 function data into a readable json\"\"\"\n",
                "    return RenderJSON(json.dumps(x, cls=HexJsonEncoder, indent=4))"
            ]
        },
        {
            "cell_type": "markdown",
            "id": "3911cd87",
            "metadata": {},
            "source": [
                "## Get Block"
            ]
        },
        {
            "cell_type": "code",
            "execution_count": 6,
            "id": "478f3597",
            "metadata": {
                "scrolled": false
            },
            "outputs": [
                {
                    "ename": "NameError",
                    "evalue": "name 'web3_data_to_json' is not defined",
                    "output_type": "error",
                    "traceback": [
                        "\u001b[0;31m---------------------------------------------------------------------------\u001b[0m",
                        "\u001b[0;31mNameError\u001b[0m                                 Traceback (most recent call last)",
                        "Input \u001b[0;32mIn [6]\u001b[0m, in \u001b[0;36m<cell line: 1>\u001b[0;34m()\u001b[0m\n\u001b[0;32m----> 1\u001b[0m \u001b[43mweb3_data_to_json\u001b[49m(w3\u001b[38;5;241m.\u001b[39meth\u001b[38;5;241m.\u001b[39mget_block(\u001b[38;5;124m\"\u001b[39m\u001b[38;5;124mlatest\u001b[39m\u001b[38;5;124m\"\u001b[39m))\n",
                        "\u001b[0;31mNameError\u001b[0m: name 'web3_data_to_json' is not defined"
                    ]
                }
            ],
            "source": [
                "web3_data_to_json(w3.eth.get_block(\"latest\"))"
            ]
        },
        {
            "cell_type": "markdown",
            "id": "0a5556a2",
            "metadata": {},
            "source": [
                "# Transactions\n",
                "## Get Transaction\n",
                "\n",
                "This [external transaction (0x420fe6f6f174675ba544b5909648828d449a8217234585ba3c48f4c88a7bdba9)](https://etherscan.io/tx/0x420fe6f6f174675ba544b5909648828d449a8217234585ba3c48f4c88a7bdba9) contains multiple internal transactions and logs."
            ]
        },
        {
            "cell_type": "code",
            "execution_count": 7,
            "id": "82187249",
            "metadata": {},
            "outputs": [
                {
                    "ename": "NameError",
                    "evalue": "name 'web3_data_to_json' is not defined",
                    "output_type": "error",
                    "traceback": [
                        "\u001b[0;31m---------------------------------------------------------------------------\u001b[0m",
                        "\u001b[0;31mNameError\u001b[0m                                 Traceback (most recent call last)",
                        "Input \u001b[0;32mIn [7]\u001b[0m, in \u001b[0;36m<cell line: 3>\u001b[0;34m()\u001b[0m\n\u001b[1;32m      1\u001b[0m tx_hash \u001b[38;5;241m=\u001b[39m \u001b[38;5;241m0x420fe6f6f174675ba544b5909648828d449a8217234585ba3c48f4c88a7bdba9\u001b[39m\n\u001b[0;32m----> 3\u001b[0m \u001b[43mweb3_data_to_json\u001b[49m(w3\u001b[38;5;241m.\u001b[39meth\u001b[38;5;241m.\u001b[39mget_transaction(tx_hash))\n",
                        "\u001b[0;31mNameError\u001b[0m: name 'web3_data_to_json' is not defined"
                    ]
                }
            ],
            "source": [
                "tx_hash = 0x420fe6f6f174675ba544b5909648828d449a8217234585ba3c48f4c88a7bdba9\n",
                "\n",
                "web3_data_to_json(w3.eth.get_transaction(tx_hash))"
            ]
        },
        {
            "cell_type": "markdown",
            "id": "9aa75a9e",
            "metadata": {},
            "source": [
                "## Get Transaction Receipt (logs)"
            ]
        },
        {
            "cell_type": "code",
            "execution_count": 8,
            "id": "00ba2765",
            "metadata": {},
            "outputs": [
                {
                    "ename": "NameError",
                    "evalue": "name 'web3_data_to_json' is not defined",
                    "output_type": "error",
                    "traceback": [
                        "\u001b[0;31m---------------------------------------------------------------------------\u001b[0m",
                        "\u001b[0;31mNameError\u001b[0m                                 Traceback (most recent call last)",
                        "Input \u001b[0;32mIn [8]\u001b[0m, in \u001b[0;36m<cell line: 1>\u001b[0;34m()\u001b[0m\n\u001b[0;32m----> 1\u001b[0m \u001b[43mweb3_data_to_json\u001b[49m(w3\u001b[38;5;241m.\u001b[39meth\u001b[38;5;241m.\u001b[39mget_transaction_receipt(tx_hash))\n",
                        "\u001b[0;31mNameError\u001b[0m: name 'web3_data_to_json' is not defined"
                    ]
                }
            ],
            "source": [
                "web3_data_to_json(w3.eth.get_transaction_receipt(tx_hash))"
            ]
        },
        {
            "cell_type": "markdown",
            "id": "63de68de",
            "metadata": {},
            "source": [
                "## Get Internal Transactions\n",
                "\n",
                "Need a node with `--trace on` enabled for this: https://ethereum.stackexchange.com/questions/3417/how-to-get-contract-internal-transactions"
            ]
        }
    ],
    "metadata": {
        "kernelspec": {
            "display_name": "Python 3 (ipykernel)",
            "language": "python",
            "name": "python3"
        },
        "language_info": {
            "codemirror_mode": {
                "name": "ipython",
                "version": 3
            },
            "file_extension": ".py",
            "mimetype": "text/x-python",
            "name": "python",
            "nbconvert_exporter": "python",
            "pygments_lexer": "ipython3",
            "version": "3.9.12"
        }
    },
    "nbformat": 4,
    "nbformat_minor": 5
}
