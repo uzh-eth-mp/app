{
 "cells": [
  {
   "cell_type": "code",
   "execution_count": 1,
   "id": "f76981b5",
   "metadata": {
    "scrolled": true
   },
   "outputs": [],
   "source": [
    "# need to have web3 installed, \n",
    "# `pip install web3` in the command line or uncomment next line\n",
    "# !pip install web3\n",
    "from web3 import Web3\n",
    "\n",
    "\n",
    "eth_api_url = \"https://mainnet.infura.io/v3/5ac780e50f2d4c48aedf160d077963ce\"\n",
    "w3 = Web3(Web3.HTTPProvider(eth_api_url))"
   ]
  },
  {
   "cell_type": "code",
   "execution_count": 2,
   "id": "f68ab22c",
   "metadata": {},
   "outputs": [],
   "source": [
    "\"\"\"Displays JSON data in a readable format\n",
    "\n",
    "Note: just use the web3_data_to_json function at the bottom\n",
    "\"\"\"\n",
    "\n",
    "import json\n",
    "from hexbytes import HexBytes\n",
    "from web3.datastructures import AttributeDict\n",
    "import uuid\n",
    "from IPython.display import display_javascript, display_html, display\n",
    "\n",
    "class RenderJSON(object):\n",
    "    def __init__(self, json_data):\n",
    "        if isinstance(json_data, dict):\n",
    "            self.json_str = json.dumps(json_data)\n",
    "        else:\n",
    "            self.json_str = json_data\n",
    "        self.uuid = str(uuid.uuid4())\n",
    "\n",
    "    def _ipython_display_(self):\n",
    "        display_html('<div id=\"{}\" style=\"height: 500px; width:100%;\"></div>'.format(self.uuid), raw=True)\n",
    "        display_javascript(\"\"\"\n",
    "        require([\"https://rawgit.com/caldwell/renderjson/master/renderjson.js\"], function() {\n",
    "        document.getElementById('%s').appendChild(renderjson(%s))\n",
    "        });\n",
    "        \"\"\" % (self.uuid, self.json_str), raw=True)\n",
    "\n",
    "\n",
    "class HexJsonEncoder(json.JSONEncoder):\n",
    "    \"\"\"\n",
    "    https://github.com/ethereum/web3.py/issues/782#issuecomment-383464754\n",
    "    \"\"\"\n",
    "\n",
    "    def default(self, obj):\n",
    "        if isinstance(obj, HexBytes):\n",
    "            return obj.hex()\n",
    "        if isinstance(obj, AttributeDict):\n",
    "            return dict(obj)\n",
    "        return super().default(obj)\n",
    "\n",
    "\n",
    "    \n",
    "def web3_data_to_json(x):\n",
    "    \"\"\"Render any web3 function data into a readable json\"\"\"\n",
    "    return RenderJSON(json.dumps(x, cls=HexJsonEncoder, indent=4))"
   ]
  },
  {
   "cell_type": "markdown",
   "id": "3911cd87",
   "metadata": {},
   "source": [
    "## Get Block"
   ]
  },
  {
   "cell_type": "code",
   "execution_count": 3,
   "id": "478f3597",
   "metadata": {
    "scrolled": false
   },
   "outputs": [
    {
     "data": {
      "text/html": [
       "<div id=\"a3c37a12-40be-4f12-84ac-09165acda61d\" style=\"height: 500px; width:100%;\"></div>"
      ]
     },
     "metadata": {},
     "output_type": "display_data"
    },
    {
     "data": {
      "application/javascript": [
       "\n",
       "        require([\"https://rawgit.com/caldwell/renderjson/master/renderjson.js\"], function() {\n",
       "        document.getElementById('a3c37a12-40be-4f12-84ac-09165acda61d').appendChild(renderjson({\n",
       "    \"baseFeePerGas\": 21584894870,\n",
       "    \"difficulty\": 12219707201598180,\n",
       "    \"extraData\": \"0x457468657265756d50504c4e532f326d696e6572735f455532\",\n",
       "    \"gasLimit\": 30000000,\n",
       "    \"gasUsed\": 2109424,\n",
       "    \"hash\": \"0xd86fc57679306cdaec8b086e5d911622c2160790cd8b1241d63b09a3958be2d2\",\n",
       "    \"logsBloom\": \"0x04605100000021011020104080210001000000610000000188090400000c0002008211200008050840001008000801000200b0000800280100000000002000080008200001000068a002000a010040a00000000038460020210054008000020002180000020408000294000800401a5d00000016000085c00008013000084001000301040041418100400142018080040000080920001008003001c00932002002400502020040201320c08288008000000208040000184009c002600a0001901a200816840800010000008010480800000000001402001000004022000820001034228868002004801c000040a0002000002020600600400001018000041001\",\n",
       "    \"miner\": \"0x00192Fb10dF37c9FB26829eb2CC623cd1BF599E8\",\n",
       "    \"mixHash\": \"0xff10bcc60deef0240170a37b2cd1068d0ba504522ee06ca640346344e9bb331a\",\n",
       "    \"nonce\": \"0xf8fc064ce6c23b54\",\n",
       "    \"number\": 15232621,\n",
       "    \"parentHash\": \"0x15becaaf79bc9159ad2e0ba0b5cbf168cf96e7a9e7d6c9e93170a33c8e8809d1\",\n",
       "    \"receiptsRoot\": \"0x2e35ddc45953269b518614907e62c509be4b2687827671b8ee0d17fd5431945d\",\n",
       "    \"sha3Uncles\": \"0x1dcc4de8dec75d7aab85b567b6ccd41ad312451b948a7413f0a142fd40d49347\",\n",
       "    \"size\": 8943,\n",
       "    \"stateRoot\": \"0x132f73bb6a19573b9344ed801d4e7b6d83023cf82e2460bda5cfa2fa8603f711\",\n",
       "    \"timestamp\": 1659032992,\n",
       "    \"totalDifficulty\": 55066713704572238735128,\n",
       "    \"transactions\": [\n",
       "        \"0x128e693c1443779568b3906b8b4986e38069ea3b34e93fc1ad450d4509938bb4\",\n",
       "        \"0x009a1638002b8ef4d2611c1c8ed60f77c76f3cf4ad47bcbf2f3fb2ae72f721ed\",\n",
       "        \"0xd2068a4bd60ec37abadcf4c4e0bf465768231abae171522c664abb7429172472\",\n",
       "        \"0x47a510fe4839b7fe45b122034308c4c108142f3e1ef8a3353d261fd37f30e247\",\n",
       "        \"0xcd9d35c7f3ca30f684847f002fd4de8a14f1cacb0f780e7470e77e9708aa7682\",\n",
       "        \"0x2b787e65739b7e8a8b5486ae08fc066dcfe0209c712edcda49cba794b14b4fbd\",\n",
       "        \"0x18803f035439469dd66aa1c0da016d28e34f844fe722f1ec70c67c6ab508300f\",\n",
       "        \"0xe4d371a908a7e34e8803fa658e451b3f298007b5acf2e84cd61c1784e849597e\",\n",
       "        \"0x91665904c515230e2d1b0be1177d5df840cfebcfa7589974857c8ffc36e43b58\",\n",
       "        \"0xc67d05da0a01b53e9e8f55f44397528f4bea69d1ad21541a013068fdd13e8d3b\",\n",
       "        \"0x05255ed91e94e5ad1edcb5ee067bc02768b850006043c005f96ad3db6e97d4ff\",\n",
       "        \"0xda3395e5d23bf29f322bcf626639d0b0000f002123e828121eda7af424b5b692\",\n",
       "        \"0x9daa55698cbf560fd8f7b921617409d923a41fc26076e031dbafb4947719e0ad\",\n",
       "        \"0x135536023e11c723834705ae9b679465c65cc2d54ce09deb953b8b141bb3d90f\",\n",
       "        \"0xfee6593fa2aa9002c17ccd3469b990b0565e336a6e44f709c79965b3e831e504\",\n",
       "        \"0x331e4759a5715660f40975f359f065b4a3d51bcf523a85ec6b5e2bedd958ab5e\",\n",
       "        \"0x307e808cdcaad971c1996faa17346ec53c81191cce3dc4416d7de67c3253eec6\",\n",
       "        \"0x76e7b27ed9f26a7fb84f15e559b2ae15bbabe8440d9bd1d86cb2dd948c495bfb\",\n",
       "        \"0x3f34a2ff90cc7794e4b8cc9bcbeac3cd55cd1b0828657b170e975c196ecefb64\",\n",
       "        \"0x1aa53f72405ffeffa8af911611f48b23918bf822f2db2cc802ab950af2384858\",\n",
       "        \"0xa17a419086cb4620d1bb4d0803adc7beee062407dd29555e200880837ede09e3\",\n",
       "        \"0x54a38f57ed8b7382c1e43c41150d7864c564be5b8fa83fd5b9b8836fff22a3f1\",\n",
       "        \"0x5c6a8d406ae3a55ee8e05fab9c26af519fcbc13e3f3f6ddbb76063e6d40a1160\",\n",
       "        \"0xed3889a558c578608ebd11c17303f9e9348f95ba9bb29c2b04037ca5c5ba6ad5\",\n",
       "        \"0xaecc2800df45a18c6acb3b83b2ac8bf7802d6482c99be5eb7d187c5506017fd6\",\n",
       "        \"0x9978afa5a1a34ed0916c2406d041c0c9407d212047de8ada5fd24fa97697a32d\",\n",
       "        \"0x1994a094b0ba442f52f045c6c4dfba150bf9fd57348f9ebbceb36dc7aeec645b\",\n",
       "        \"0xae02aae1bff9a0ac8de88652b854f08f8722fc099f108b9ad61a5f7737df606f\",\n",
       "        \"0x6edf3265c99ea7812d614255eec4075fe57ef56db4973206c1739c51917830f8\"\n",
       "    ],\n",
       "    \"transactionsRoot\": \"0x0e7f753bd6a5596add57b6a311b92be8063b70ef1f6dd98062cbbd887609053c\",\n",
       "    \"uncles\": []\n",
       "}))\n",
       "        });\n",
       "        "
      ]
     },
     "metadata": {},
     "output_type": "display_data"
    }
   ],
   "source": [
    "web3_data_to_json(w3.eth.get_block(\"latest\"))"
   ]
  },
  {
   "cell_type": "markdown",
   "id": "0a5556a2",
   "metadata": {},
   "source": [
    "# Transactions\n",
    "## Get Transaction\n",
    "\n",
    "This [external transaction (0x420fe6f6f174675ba544b5909648828d449a8217234585ba3c48f4c88a7bdba9)](https://etherscan.io/tx/0x420fe6f6f174675ba544b5909648828d449a8217234585ba3c48f4c88a7bdba9) contains multiple internal transactions and logs."
   ]
  },
  {
   "cell_type": "code",
   "execution_count": 4,
   "id": "82187249",
   "metadata": {},
   "outputs": [
    {
     "data": {
      "text/html": [
       "<div id=\"8f1ce4f8-6201-4b67-9872-787ebc79cdda\" style=\"height: 500px; width:100%;\"></div>"
      ]
     },
     "metadata": {},
     "output_type": "display_data"
    },
    {
     "data": {
      "application/javascript": [
       "\n",
       "        require([\"https://rawgit.com/caldwell/renderjson/master/renderjson.js\"], function() {\n",
       "        document.getElementById('8f1ce4f8-6201-4b67-9872-787ebc79cdda').appendChild(renderjson({\n",
       "    \"blockHash\": \"0x3214f33ba852b69462050f189209ff9f2c5a88d86c837dc2907e5251a7ad9098\",\n",
       "    \"blockNumber\": 4765432,\n",
       "    \"from\": \"0xE2dE6d17B8314F7f182F698606A53A064B00ddcc\",\n",
       "    \"gas\": 175000,\n",
       "    \"gasPrice\": 35000000000,\n",
       "    \"hash\": \"0x420fe6f6f174675ba544b5909648828d449a8217234585ba3c48f4c88a7bdba9\",\n",
       "    \"input\": \"0xa9059cbb0000000000000000000000005e42c86bb5352e9d985dd1200e05a35f4b0b2b140000000000000000000000000000000000000000000000000000017c0fa6453c\",\n",
       "    \"nonce\": 0,\n",
       "    \"r\": \"0xc73e1c205abe98656c5d7ac775f12bc8efd6fd313ed984d7ccd104557c913cf4\",\n",
       "    \"s\": \"0x529a77f90ad4c22fcb64f012abe32b74e4bf8048256d26187c9f5beb45c77840\",\n",
       "    \"to\": \"0x6531f133e6DeeBe7F2dcE5A0441aA7ef330B4e53\",\n",
       "    \"transactionIndex\": 59,\n",
       "    \"type\": \"0x0\",\n",
       "    \"v\": 38,\n",
       "    \"value\": 0\n",
       "}))\n",
       "        });\n",
       "        "
      ]
     },
     "metadata": {},
     "output_type": "display_data"
    }
   ],
   "source": [
    "tx_hash = 0x420fe6f6f174675ba544b5909648828d449a8217234585ba3c48f4c88a7bdba9\n",
    "\n",
    "web3_data_to_json(w3.eth.get_transaction(tx_hash))"
   ]
  },
  {
   "cell_type": "markdown",
   "id": "9aa75a9e",
   "metadata": {},
   "source": [
    "## Get Transaction Receipt (logs)"
   ]
  },
  {
   "cell_type": "code",
   "execution_count": 5,
   "id": "00ba2765",
   "metadata": {},
   "outputs": [
    {
     "data": {
      "text/html": [
       "<div id=\"0541a46c-2338-4943-935f-e4d9ba2765cd\" style=\"height: 500px; width:100%;\"></div>"
      ]
     },
     "metadata": {},
     "output_type": "display_data"
    },
    {
     "data": {
      "application/javascript": [
       "\n",
       "        require([\"https://rawgit.com/caldwell/renderjson/master/renderjson.js\"], function() {\n",
       "        document.getElementById('0541a46c-2338-4943-935f-e4d9ba2765cd').appendChild(renderjson({\n",
       "    \"blockHash\": \"0x3214f33ba852b69462050f189209ff9f2c5a88d86c837dc2907e5251a7ad9098\",\n",
       "    \"blockNumber\": 4765432,\n",
       "    \"contractAddress\": null,\n",
       "    \"cumulativeGasUsed\": 2434659,\n",
       "    \"effectiveGasPrice\": 35000000000,\n",
       "    \"from\": \"0xE2dE6d17B8314F7f182F698606A53A064B00ddcc\",\n",
       "    \"gasUsed\": 50437,\n",
       "    \"logs\": [\n",
       "        {\n",
       "            \"address\": \"0xf76De79A8cB78158f22DC8E0F3B6F3F6b9Cd97d8\",\n",
       "            \"blockHash\": \"0x3214f33ba852b69462050f189209ff9f2c5a88d86c837dc2907e5251a7ad9098\",\n",
       "            \"blockNumber\": 4765432,\n",
       "            \"data\": \"0x0000000000000000000000000000000000000000000000000000017c0fa6453c000000000000000000000000000000000000000000000000000000000000006000000000000000000000000000000000000000000000000000000000000000010000000000000000000000000000000000000000000000000000000000000000\",\n",
       "            \"logIndex\": 23,\n",
       "            \"removed\": false,\n",
       "            \"topics\": [\n",
       "                \"0x940c4b3549ef0aaff95807dc27f62d88ca15532d1bf535d7d63800f40395d16c\",\n",
       "                \"0x000000000000000000000000e2de6d17b8314f7f182f698606a53a064b00ddcc\",\n",
       "                \"0x0000000000000000000000005e42c86bb5352e9d985dd1200e05a35f4b0b2b14\",\n",
       "                \"0x54494d4500000000000000000000000000000000000000000000000000000000\"\n",
       "            ],\n",
       "            \"transactionHash\": \"0x420fe6f6f174675ba544b5909648828d449a8217234585ba3c48f4c88a7bdba9\",\n",
       "            \"transactionIndex\": 59\n",
       "        },\n",
       "        {\n",
       "            \"address\": \"0x6531f133e6DeeBe7F2dcE5A0441aA7ef330B4e53\",\n",
       "            \"blockHash\": \"0x3214f33ba852b69462050f189209ff9f2c5a88d86c837dc2907e5251a7ad9098\",\n",
       "            \"blockNumber\": 4765432,\n",
       "            \"data\": \"0x0000000000000000000000000000000000000000000000000000017c0fa6453c\",\n",
       "            \"logIndex\": 24,\n",
       "            \"removed\": false,\n",
       "            \"topics\": [\n",
       "                \"0xddf252ad1be2c89b69c2b068fc378daa952ba7f163c4a11628f55a4df523b3ef\",\n",
       "                \"0x000000000000000000000000e2de6d17b8314f7f182f698606a53a064b00ddcc\",\n",
       "                \"0x0000000000000000000000005e42c86bb5352e9d985dd1200e05a35f4b0b2b14\"\n",
       "            ],\n",
       "            \"transactionHash\": \"0x420fe6f6f174675ba544b5909648828d449a8217234585ba3c48f4c88a7bdba9\",\n",
       "            \"transactionIndex\": 59\n",
       "        }\n",
       "    ],\n",
       "    \"logsBloom\": \"0x00000000004000000000000000200000000002000000000001000100000000000000000000000000000000000000000000000000000000000000000000000000400000000000000000040008000000000000000000200000000000000000400000000000000000000000000000000000000000000000000000000010000000000000000000000000000000000000000000000000000000000000080000000000000000000000008002000004000000000000000000000000000000000000000000000082000000080000000000000000000000000000000000000000000000010000000000000000000200000000000000000000008000000000000000000000\",\n",
       "    \"status\": 1,\n",
       "    \"to\": \"0x6531f133e6DeeBe7F2dcE5A0441aA7ef330B4e53\",\n",
       "    \"transactionHash\": \"0x420fe6f6f174675ba544b5909648828d449a8217234585ba3c48f4c88a7bdba9\",\n",
       "    \"transactionIndex\": 59,\n",
       "    \"type\": \"0x0\"\n",
       "}))\n",
       "        });\n",
       "        "
      ]
     },
     "metadata": {},
     "output_type": "display_data"
    }
   ],
   "source": [
    "web3_data_to_json(w3.eth.get_transaction_receipt(tx_hash))"
   ]
  },
  {
   "cell_type": "markdown",
   "id": "63de68de",
   "metadata": {},
   "source": [
    "## Get Internal Transactions\n",
    "\n",
    "Need a node with `--trace on` enabled for this: https://ethereum.stackexchange.com/questions/3417/how-to-get-contract-internal-transactions"
   ]
  }
 ],
 "metadata": {
  "kernelspec": {
   "display_name": "Python 3 (ipykernel)",
   "language": "python",
   "name": "python3"
  },
  "language_info": {
   "codemirror_mode": {
    "name": "ipython",
    "version": 3
   },
   "file_extension": ".py",
   "mimetype": "text/x-python",
   "name": "python",
   "nbconvert_exporter": "python",
   "pygments_lexer": "ipython3",
   "version": "3.9.13"
  }
 },
 "nbformat": 4,
 "nbformat_minor": 5
}
